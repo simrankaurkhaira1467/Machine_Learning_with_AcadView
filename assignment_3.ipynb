{
 "cells": [
  {
   "cell_type": "code",
   "execution_count": 11,
   "metadata": {
    "collapsed": false
   },
   "outputs": [
    {
     "name": "stdout",
     "output_type": "stream",
     "text": [
      "The probability of b|a is= 0.0303030303030303\n"
     ]
    }
   ],
   "source": [
    "#Question 1\n",
    "\"\"\"Consider the below given probabilities: \n",
    "P(A) = 11 / 36\n",
    "P(B) = 6 / 36\n",
    "P(A|B) = 2 / 36\n",
    "Write a function in Python which takes 3 probabilities as argument and outputs the Conditional probability P(B|A).\n",
    "\"\"\"\n",
    "def probability(a,b,ab):\n",
    "    ba=(ab*b)/a\n",
    "    print(\"The probability of b|a is=\",ba)\n",
    "    \n",
    "probability((11/36),(6/36),(2/36))\n",
    "    "
   ]
  },
  {
   "cell_type": "markdown",
   "metadata": {
    "collapsed": false
   },
   "source": [
    "##### Question 2\n",
    "Bag I contains 4 white and 6 black balls while another Bag II contains 4 white and 3 black balls. \n",
    "One ball is drawn at random from one of the bags and it is found to be black.\n",
    "Find the probability that it was drawn from Bag I.\n",
    "\n",
    "ans. P(black|BagI)=6/10\n",
    "     P(black|BagII)=3/7\n",
    "     P(X,Y)=P(Y)*P(X|Y)\n",
    "     each bag has a prior probability of 1/2;\n",
    "     so, probability of drawing a black ball and having chosen a particular bag are:\n",
    "     P(black,BagI)=6/10*1/2=3/10\n",
    "     P(black,BagII)=3/7*1/2=3/14\n",
    "     P(black)=P(black,BagI)+P(black,BagII)\n",
    "             =3/10+3/14\n",
    "             =36/70\n",
    "     the probability that it was drawn from Bag I:\n",
    "     P(bagI|black)=P(black,BagI)/P(black)\n",
    "                  =(3/10)/(36/70)\n",
    "                  =7/12\n",
    "     so,the answer is 7/12"
   ]
  },
  {
   "cell_type": "markdown",
   "metadata": {
    "collapsed": false
   },
   "source": [
    "##### Question 3\n",
    "A man is known to speak truth 2 out of 3 times. \n",
    "He throws a die and reports that number obtained is a four. \n",
    "Find the probability that the number obtained is actually a four.\n",
    "\n",
    "ans. Let E be the event that the man reports that six occurs in the throwing of the die.\n",
    "     Let S1 be the event that four occurs and S2 be the event that four does not occur.\n",
    "\n",
    "     Then P (S1) = Probability that four occurs = 1/6  \n",
    "     P (S2 ) = Probability that four does not occur = 5/6  \n",
    "     P (E/S1) = Probability that the man reports that four occurs when four has actually occurred on the die.\n",
    "              = Probability that the man speaks the truth = 2/3 \n",
    "     P (E/S2 ) = Probability that the man reports that four occurs when four has not actually occurred on the die.\n",
    "               = Probability that the man does not speak the truth=1-2/3=1/3.\n",
    "\n",
    "     Thus, by Bayes’ theorem, we get  \n",
    "     P (S1/E) = Probability that the report of the man that four has occurred is actually a four:\n",
    "              =[P(S1)*P(E|S1)]/[P(S1)*P(E|S1)+P(S2)*P(E|S2)]\n",
    "              =[1/6*2/3]/[1/6*2/3+5/6*1/3]\n",
    "              =(1/9)/(7/18)\n",
    "              =2/7\n",
    "     so,the answer is 2/7"
   ]
  }
 ],
 "metadata": {
  "anaconda-cloud": {},
  "kernelspec": {
   "display_name": "Python [default]",
   "language": "python",
   "name": "python3"
  },
  "language_info": {
   "codemirror_mode": {
    "name": "ipython",
    "version": 3
   },
   "file_extension": ".py",
   "mimetype": "text/x-python",
   "name": "python",
   "nbconvert_exporter": "python",
   "pygments_lexer": "ipython3",
   "version": "3.5.2"
  }
 },
 "nbformat": 4,
 "nbformat_minor": 2
}
